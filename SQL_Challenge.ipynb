{
 "cells": [
  {
   "cell_type": "code",
   "execution_count": null,
   "metadata": {},
   "outputs": [],
   "source": [
    "from sqlalchemy import create_engine\n",
    "engine = create_engine()"
   ]
  },
  {
   "cell_type": "code",
   "execution_count": null,
   "metadata": {},
   "outputs": [],
   "source": [
    "--Create tables and import data from CSV\n",
    "\n",
    "create table departments (\n",
    "\tdept_no varchar PRIMARY KEY,\n",
    "\tdept_name text\n",
    ");\n",
    "ALTER TABLE departments\n",
    "ALTER COLUMN dept_no SET NOT NULL;\n",
    "\n",
    "create table dept_emp (\n",
    "\temp_no int, \n",
    "\tdept_no varchar,\n",
    "\tFOREIGN KEY (emp_no) REFERENCES employees(emp_no),\n",
    "\tFOREIGN KEY (dept_no) REFERENCES departments(dept_no)\n",
    ");\n",
    "\n",
    "create table dept_manager (\n",
    "\tdept_no varchar, \n",
    "\temp_no int, \n",
    "\tFOREIGN KEY (dept_no) REFERENCES departments(dept_no),\n",
    "\tFOREIGN KEY (emp_no) REFERENCES employees(emp_no)\n",
    ");\n",
    "\n",
    "create table employees (\n",
    "\temp_no int PRIMARY KEY,\n",
    "\temp_title_id varchar,\n",
    "\tbirth_date date,\n",
    "\tfirst_name text,\n",
    "\tlast_name text,\n",
    "\tsex text,\n",
    "\thire_date date\n",
    ");\n",
    "ALTER TABLE employees\n",
    "ALTER COLUMN emp_no SET NOT NULL;\n",
    "\n",
    "create table salaries (\n",
    "\temp_no int,\n",
    "\tsalary int,\n",
    "\tFOREIGN KEY (emp_no) REFERENCES employees(emp_no)\n",
    ");\n",
    "ALTER TABLE salaries\n",
    "ALTER COLUMN salary SET NOT NULL;\n",
    "\n",
    "create table titles (\n",
    "\ttitle_id varchar PRIMARY KEY,\n",
    "\ttitle text\n",
    ");\n"
   ]
  },
  {
   "cell_type": "code",
   "execution_count": null,
   "metadata": {},
   "outputs": [],
   "source": [
    "-List the employee number, last name, first name, sex, and salary of each employee.\n",
    "SELECT employees.emp_no, last_name, first_name, sex, salary\n",
    "FROM employees\n",
    "JOIN salaries ON employees.emp_no = salaries.emp_no;"
   ]
  },
  {
   "cell_type": "code",
   "execution_count": null,
   "metadata": {},
   "outputs": [],
   "source": [
    "--List the first name, last name, and hire date for the employees who were hired in 1986.\n",
    "SELECT first_name, last_name, hire_date\n",
    "FROM employees\n",
    "WHERE EXTRACT(YEAR FROM hire_date) = 1986;"
   ]
  },
  {
   "cell_type": "code",
   "execution_count": null,
   "metadata": {},
   "outputs": [],
   "source": [
    "--List the manager of each department along with their department number, department name, employee number, last name, and first name.\n",
    "SELECT d.dept_no, d.dept_name, dm.emp_no, e.last_name, e.first_name\n",
    "FROM departments d\n",
    "JOIN dept_manager dm ON d.dept_no = dm.dept_no\n",
    "JOIN employees e ON dm.emp_no = e.emp_no;"
   ]
  },
  {
   "cell_type": "code",
   "execution_count": null,
   "metadata": {},
   "outputs": [],
   "source": [
    "--List the department number for each employee along with that employee’s employee number, last name, first name, and department name.\n",
    "SELECT e.emp_no, e.last_name, e.first_name, d.dept_no, d.dept_name\n",
    "FROM employees e\n",
    "JOIN dept_emp de ON e.emp_no = de.emp_no\n",
    "JOIN departments d ON de.dept_no = d.dept_no;"
   ]
  },
  {
   "cell_type": "code",
   "execution_count": null,
   "metadata": {},
   "outputs": [],
   "source": [
    "--List first name, last name, and sex of each employee whose first name is Hercules and whose last name begins with the letter B.\n",
    "SELECT first_name, last_name, sex\n",
    "FROM employees\n",
    "WHERE first_name = 'Hercules' AND last_name LIKE 'B%';"
   ]
  },
  {
   "cell_type": "code",
   "execution_count": null,
   "metadata": {},
   "outputs": [],
   "source": [
    "--List each employee in the Sales department, including their employee number, last name, and first name.\n",
    "SELECT e.emp_no, e.last_name, e.first_name\n",
    "FROM employees e\n",
    "JOIN dept_emp de ON e.emp_no = de.emp_no\n",
    "JOIN departments d ON de.dept_no = d.dept_no\n",
    "WHERE d.dept_name = 'Sales';"
   ]
  },
  {
   "cell_type": "code",
   "execution_count": null,
   "metadata": {},
   "outputs": [],
   "source": [
    "--List each employee in the Sales and Development departments, including their employee number, last name, first name, and department name.\n",
    "SELECT e.emp_no, e.last_name, e.first_name, d.dept_name\n",
    "FROM employees e\n",
    "JOIN dept_emp de ON e.emp_no = de.emp_no\n",
    "JOIN departments d ON de.dept_no = d.dept_no\n",
    "WHERE d.dept_name IN ('Sales', 'Development');"
   ]
  },
  {
   "cell_type": "code",
   "execution_count": null,
   "metadata": {},
   "outputs": [],
   "source": [
    "--List the frequency counts, in descending order, of all the employee last names (that is, how many employees share each last name).\n",
    "SELECT last_name, COUNT(*) AS frequency\n",
    "FROM employees\n",
    "GROUP BY last_name\n",
    "ORDER BY frequency DESC;"
   ]
  }
 ],
 "metadata": {
  "language_info": {
   "name": "python"
  }
 },
 "nbformat": 4,
 "nbformat_minor": 2
}
